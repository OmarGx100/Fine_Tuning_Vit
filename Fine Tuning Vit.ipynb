{
 "cells": [
  {
   "cell_type": "markdown",
   "metadata": {},
   "source": [
    "# Project Title : Food101 Image Clasification using Vision Transformers\n",
    "# Author : Omar Mahmoud Abdel Rahman\n",
    "# Date : 29/8/2024"
   ]
  },
  {
   "cell_type": "code",
   "execution_count": 37,
   "metadata": {},
   "outputs": [
    {
     "data": {
      "text/plain": [
       "'cuda'"
      ]
     },
     "execution_count": 37,
     "metadata": {},
     "output_type": "execute_result"
    }
   ],
   "source": [
    "# import needed dependencies\n",
    "import torch\n",
    "from torch import nn\n",
    "import torchvision\n",
    "from torchvision import transforms\n",
    "from torch.utils.data import DataLoader, Dataset\n",
    "from torchvision.datasets import ImageFolder\n",
    "\n",
    "\n",
    "from pathlib import Path\n",
    "import os\n",
    "import pathlib\n",
    "\n",
    "\n",
    "import matplotlib.pyplot as plt\n",
    "import PIL\n",
    "\n",
    "import numpy as np\n",
    "\n",
    "from timeit import default_timer as timer\n",
    "from tqdm.auto import tqdm\n",
    "from typing import List, Dict\n",
    "import random\n",
    "\n",
    "from helper_functions import train, accuracy_fn\n",
    "\n",
    "\n",
    "device = 'cuda' if torch.cuda.is_available() else 'cpu'\n",
    "\n",
    "device"
   ]
  },
  {
   "cell_type": "code",
   "execution_count": 2,
   "metadata": {},
   "outputs": [],
   "source": [
    "train_data_dir = './Data/train'\n",
    "test_data_dir = './Data/test'\n",
    "train_data_path = Path(train_data_dir)\n",
    "test_data_path = Path(test_data_dir)\n",
    "\n",
    "def get_class_names(data_path):\n",
    "    class_names = sorted(entry.name for entry in list(os.scandir(data_path)) if entry.is_dir())\n",
    "    class_to_idx = {}\n",
    "    for i in range(len(class_names)):\n",
    "        class_to_idx[class_names[i]] = i\n",
    "    return class_names, class_to_idx\n",
    "\n",
    "\n",
    "class_names, class_to_idx = get_class_names(train_data_path)"
   ]
  },
  {
   "cell_type": "code",
   "execution_count": 16,
   "metadata": {},
   "outputs": [],
   "source": [
    "# getting the pretrained model weights\n",
    "pretrained_Vit_weights = torchvision.models.ViT_B_16_Weights.DEFAULT\n",
    "\n",
    "# getting the model architic\n",
    "pretrained_vit_model = torchvision.models.vit_b_16(weights = pretrained_Vit_weights).to(device)\n",
    "\n",
    "# freezing all the layers, and we will just train the head of the model\n",
    "for parameter in pretrained_vit_model.parameters():\n",
    "    parameter.requires_grad = False\n",
    "\n",
    "emb_size = 768\n",
    "pretrained_vit_model.heads = nn.Linear(in_features = emb_size,\n",
    "                                       out_features = len(class_names)).to(device)\n"
   ]
  },
  {
   "cell_type": "code",
   "execution_count": 17,
   "metadata": {},
   "outputs": [
    {
     "data": {
      "text/plain": [
       "================================================================================================================================================================\n",
       "Layer (type (var_name))                                      Input Shape               Output Shape              Param #                   Trainable\n",
       "================================================================================================================================================================\n",
       "VisionTransformer (VisionTransformer)                        [32, 3, 224, 224]         [32, 3]                   768                       Partial\n",
       "├─Conv2d (conv_proj)                                         [32, 3, 224, 224]         [32, 768, 14, 14]         (590,592)                 False\n",
       "├─Encoder (encoder)                                          [32, 197, 768]            [32, 197, 768]            151,296                   False\n",
       "│    └─Dropout (dropout)                                     [32, 197, 768]            [32, 197, 768]            --                        --\n",
       "│    └─Sequential (layers)                                   [32, 197, 768]            [32, 197, 768]            --                        False\n",
       "│    │    └─EncoderBlock (encoder_layer_0)                   [32, 197, 768]            [32, 197, 768]            (7,087,872)               False\n",
       "│    │    └─EncoderBlock (encoder_layer_1)                   [32, 197, 768]            [32, 197, 768]            (7,087,872)               False\n",
       "│    │    └─EncoderBlock (encoder_layer_2)                   [32, 197, 768]            [32, 197, 768]            (7,087,872)               False\n",
       "│    │    └─EncoderBlock (encoder_layer_3)                   [32, 197, 768]            [32, 197, 768]            (7,087,872)               False\n",
       "│    │    └─EncoderBlock (encoder_layer_4)                   [32, 197, 768]            [32, 197, 768]            (7,087,872)               False\n",
       "│    │    └─EncoderBlock (encoder_layer_5)                   [32, 197, 768]            [32, 197, 768]            (7,087,872)               False\n",
       "│    │    └─EncoderBlock (encoder_layer_6)                   [32, 197, 768]            [32, 197, 768]            (7,087,872)               False\n",
       "│    │    └─EncoderBlock (encoder_layer_7)                   [32, 197, 768]            [32, 197, 768]            (7,087,872)               False\n",
       "│    │    └─EncoderBlock (encoder_layer_8)                   [32, 197, 768]            [32, 197, 768]            (7,087,872)               False\n",
       "│    │    └─EncoderBlock (encoder_layer_9)                   [32, 197, 768]            [32, 197, 768]            (7,087,872)               False\n",
       "│    │    └─EncoderBlock (encoder_layer_10)                  [32, 197, 768]            [32, 197, 768]            (7,087,872)               False\n",
       "│    │    └─EncoderBlock (encoder_layer_11)                  [32, 197, 768]            [32, 197, 768]            (7,087,872)               False\n",
       "│    └─LayerNorm (ln)                                        [32, 197, 768]            [32, 197, 768]            (1,536)                   False\n",
       "├─Linear (heads)                                             [32, 768]                 [32, 3]                   2,307                     True\n",
       "================================================================================================================================================================\n",
       "Total params: 85,800,963\n",
       "Trainable params: 2,307\n",
       "Non-trainable params: 85,798,656\n",
       "Total mult-adds (Units.GIGABYTES): 5.52\n",
       "================================================================================================================================================================\n",
       "Input size (MB): 19.27\n",
       "Forward/backward pass size (MB): 3330.74\n",
       "Params size (MB): 229.20\n",
       "Estimated Total Size (MB): 3579.21\n",
       "================================================================================================================================================================"
      ]
     },
     "execution_count": 17,
     "metadata": {},
     "output_type": "execute_result"
    }
   ],
   "source": [
    "from torchinfo import summary\n",
    "BATCH_SIZE = 32\n",
    "WIDTH = 224\n",
    "HIEGHT = 224\n",
    "NUM_CHANNELS = 3\n",
    "\n",
    "summary(pretrained_vit_model,\n",
    "        input_size = (BATCH_SIZE, NUM_CHANNELS, WIDTH, HIEGHT),\n",
    "        col_names=['input_size', 'output_size', 'num_params','trainable'],\n",
    "        row_settings=['var_names'])"
   ]
  },
  {
   "cell_type": "code",
   "execution_count": 8,
   "metadata": {},
   "outputs": [],
   "source": [
    "train_transform = transforms.Compose([\n",
    "    transforms.Resize(size = (224, 224)),\n",
    "    transforms.RandomHorizontalFlip(p = 0.5),\n",
    "    transforms.ToTensor()\n",
    "])\n",
    "\n",
    "test_transform = transforms.Compose([\n",
    "    transforms.Resize(size = (224, 224)),\n",
    "    transforms.ToTensor()\n",
    "])"
   ]
  },
  {
   "cell_type": "code",
   "execution_count": 9,
   "metadata": {},
   "outputs": [],
   "source": [
    "train_dataset = ImageFolder(train_data_path,\n",
    "                            transform= train_transform,\n",
    "                            target_transform = None)\n",
    "\n",
    "test_dataset = ImageFolder(test_data_path,\n",
    "                           transform= test_transform,\n",
    "                           target_transform=None)"
   ]
  },
  {
   "cell_type": "code",
   "execution_count": 10,
   "metadata": {},
   "outputs": [
    {
     "data": {
      "text/plain": [
       "(torch.Size([32, 3, 224, 224]), torch.Size([32]))"
      ]
     },
     "execution_count": 10,
     "metadata": {},
     "output_type": "execute_result"
    }
   ],
   "source": [
    "train_dataloader = DataLoader(train_dataset,\n",
    "                              batch_size = 32,\n",
    "                              shuffle=True)\n",
    "\n",
    "test_dataloader = DataLoader(test_dataset,\n",
    "                             batch_size = 32,\n",
    "                             shuffle = False)\n",
    "\n",
    "train_data_sample, train_label_sample = next(iter(train_dataloader))\n",
    "\n",
    "train_data_sample.shape, train_label_sample.shape"
   ]
  },
  {
   "cell_type": "code",
   "execution_count": 18,
   "metadata": {},
   "outputs": [
    {
     "data": {
      "application/vnd.jupyter.widget-view+json": {
       "model_id": "6ffb4c44f9f74e239e7c7bfab9fdb9b1",
       "version_major": 2,
       "version_minor": 0
      },
      "text/plain": [
       "  0%|          | 0/11 [00:00<?, ?it/s]"
      ]
     },
     "metadata": {},
     "output_type": "display_data"
    },
    {
     "name": "stdout",
     "output_type": "stream",
     "text": [
      "Epoch: 0\n",
      " --------\n",
      "Train Loss : 2.8606 | Train Accuravy : 81.25\n",
      "Test Loss : 0.4214 | Test Accuracy : 97.50\n",
      "Epoch: 1\n",
      " --------\n",
      "Train Loss : 0.8307 | Train Accuravy : 93.75\n",
      "Test Loss : 0.6898 | Test Accuracy : 95.62\n",
      "Epoch: 2\n",
      " --------\n",
      "Train Loss : 0.3052 | Train Accuravy : 96.88\n",
      "Test Loss : 0.7069 | Test Accuracy : 94.72\n",
      "Epoch: 3\n",
      " --------\n",
      "Train Loss : 0.2229 | Train Accuravy : 97.08\n",
      "Test Loss : 0.8448 | Test Accuracy : 93.52\n",
      "Epoch: 4\n",
      " --------\n",
      "Train Loss : 0.0383 | Train Accuravy : 99.58\n",
      "Test Loss : 0.4244 | Test Accuracy : 97.50\n",
      "Epoch: 5\n",
      " --------\n",
      "Train Loss : 0.0386 | Train Accuravy : 99.38\n",
      "Test Loss : 0.7328 | Test Accuracy : 94.43\n",
      "Epoch: 6\n",
      " --------\n",
      "Train Loss : 0.0556 | Train Accuravy : 98.96\n",
      "Test Loss : 0.4415 | Test Accuracy : 96.88\n",
      "Epoch: 7\n",
      " --------\n",
      "Train Loss : 0.0014 | Train Accuravy : 100.00\n",
      "Test Loss : 0.3433 | Test Accuracy : 96.88\n",
      "Epoch: 8\n",
      " --------\n",
      "Train Loss : 0.0066 | Train Accuravy : 99.58\n",
      "Test Loss : 0.4791 | Test Accuracy : 96.88\n",
      "Epoch: 9\n",
      " --------\n",
      "Train Loss : 0.0000 | Train Accuravy : 100.00\n",
      "Test Loss : 0.3650 | Test Accuracy : 96.88\n",
      "Epoch: 10\n",
      " --------\n",
      "Train Loss : 0.0125 | Train Accuravy : 99.79\n",
      "Test Loss : 0.5667 | Test Accuracy : 96.88\n",
      "\n",
      "Train time on None: 203.032 seconds\n",
      "\n",
      "Train time on None: 203.032 seconds\n"
     ]
    }
   ],
   "source": [
    "optimzer = torch.optim.Adam(params = pretrained_vit_model.parameters(), lr = 0.1)\n",
    "loss_fnc = nn.CrossEntropyLoss()\n",
    "\n",
    "results = train(pretrained_vit_model,\n",
    "      train_dataloader,\n",
    "      test_dataloader,\n",
    "      optimzer,\n",
    "      loss_fnc,\n",
    "      accuracy_fn,\n",
    "      seed = 42,\n",
    "      device = device,\n",
    "      epochs = 11,\n",
    "      early_stop=True,\n",
    "      patience = 3,\n",
    "      min_delta = 0.5)"
   ]
  },
  {
   "cell_type": "code",
   "execution_count": 19,
   "metadata": {},
   "outputs": [],
   "source": [
    "def plot_loss_curves(epochs : int,\n",
    "                     train_loss : np.array,\n",
    "                     test_loss : np.array,\n",
    "                     train_acc : np.array,\n",
    "                     test_acc : np.array):\n",
    "    \"\"\"Function used to plot the train and test losses and accuracies through epochs\"\"\"\n",
    "    plt.figure(figsize = (10,6))\n",
    "    epochs = np.array(range(epochs))\n",
    "    # Plotting the train and test lossed \n",
    "    plt.subplot(1, 2, 1)\n",
    "    plt.plot(epochs, train_loss, label = 'train loss')\n",
    "    plt.plot(epochs, test_loss, label = 'test loss')\n",
    "    plt.axis(True)\n",
    "    plt.title(f\"Train and Loss Curves\")\n",
    "    plt.xlabel(\"Epochs\")\n",
    "    plt.ylabel(\"Train Test Loss\")\n",
    "    plt.legend()\n",
    "    \n",
    "    plt.subplot(1, 2, 2)\n",
    "    plt.plot(epochs, train_acc, label = 'train acc')\n",
    "    plt.plot(epochs, test_acc, label = 'test acc')\n",
    "    plt.axis(True);\n",
    "    plt.xlabel(\"Epochs\")\n",
    "    plt.ylabel(\"Train Test Accuracy\")\n",
    "    plt.title(f\"Train and Test Accuracy Curves\")\n",
    "    plt.legend()\n",
    "    plt.show();"
   ]
  },
  {
   "cell_type": "code",
   "execution_count": 20,
   "metadata": {},
   "outputs": [
    {
     "data": {
      "image/png": "[encoded data removed]",
      "text/plain": [
       "<Figure size 1000x600 with 2 Axes>"
      ]
     },
     "metadata": {},
     "output_type": "display_data"
    }
   ],
   "source": [
    "train_loss, test_loss = np.array(results['train_loss_epoch']), np.array(results['test_loss_epoch'])\n",
    "train_acc , test_acc  = np.array(results['train_acc_epoch']), np.array(results['test_acc_epoch'])\n",
    "epochs = len(train_loss)\n",
    "plot_loss_curves(epochs, train_loss, test_loss, train_acc, test_acc) "
   ]
  },
  {
   "cell_type": "code",
   "execution_count": 41,
   "metadata": {},
   "outputs": [],
   "source": [
    "# Pipeline for infernce Mode \"Predicting on custome images\"\n",
    "\n",
    "def Predict_Custom_Images(model:torch.nn.Module,\n",
    "                          image_path : str,\n",
    "                          device : torch.device = None):\n",
    "    \n",
    "    \"\"\"Function taking image path as a string and a model and returns model_prediction and confedence level\"\"\"\n",
    "    transform = transforms.Compose([\n",
    "        transforms.Resize(size = (224, 224), antialias=True),\n",
    "        # transforms.ToTensor()\n",
    "    ])\n",
    "    \n",
    "    # reading an image using its path\n",
    "    img = torchvision.io.read_image(image_path).type(torch.float32) / 255\n",
    "    # Transforming our image into the right requirnments for our model\n",
    "    img = transform(img)\n",
    "    img = img.to(device)\n",
    " \n",
    "    try :\n",
    "        model.to(device)\n",
    "    except :\n",
    "        print(f\"you are not specifing and device and you are now working on the cpu\")\n",
    "        model.to('cpu')\n",
    " \n",
    " \n",
    "    # Making our model into the inference_mode so our grades does not change\n",
    "    model.eval()\n",
    "    with torch.inference_mode():\n",
    "        # Calculating the raw logits \n",
    "        raw_logits = model(img.unsqueeze(0))\n",
    "\n",
    "    # Converting the raw logits into prediction probabilities and then into prediction labels\n",
    "    prediction_probability = torch.softmax(raw_logits, dim = 1).max().item()\n",
    "    prediction_label = torch.softmax(raw_logits, dim = 1).argmax(dim = 1).item()\n",
    "    print(f\"ground Truth label is : {image_path.parts[-2]}\")\n",
    "    print(f\"prediction label : {class_names[prediction_label]}\\nConfidence : {(prediction_probability * 100):.2f}%\")\n",
    "\n",
    "    return prediction_label, prediction_probability"
   ]
  },
  {
   "cell_type": "code",
   "execution_count": 52,
   "metadata": {},
   "outputs": [],
   "source": [
    "random_images_paths = [random.choices(list(pathlib.Path(test_data_dir).glob('*/*.jpg')), k = 10)]\n",
    "\n",
    "random_images = random_images_paths[0]"
   ]
  },
  {
   "cell_type": "code",
   "execution_count": 53,
   "metadata": {},
   "outputs": [
    {
     "name": "stdout",
     "output_type": "stream",
     "text": [
      "this is iteration : 0 and the image path is: Data\\test\\steak\\3479599.jpg\n",
      "ground Truth label is : steak\n",
      "prediction label : sushi\n",
      "Confidence : 100.00%\n",
      "this is iteration : 1 and the image path is: Data\\test\\sushi\\593071.jpg\n",
      "ground Truth label is : sushi\n",
      "prediction label : sushi\n",
      "Confidence : 100.00%\n",
      "this is iteration : 2 and the image path is: Data\\test\\steak\\3100563.jpg\n",
      "ground Truth label is : steak\n",
      "prediction label : steak\n",
      "Confidence : 100.00%\n",
      "this is iteration : 3 and the image path is: Data\\test\\pizza\\2901001.jpg\n",
      "ground Truth label is : pizza\n",
      "prediction label : pizza\n",
      "Confidence : 100.00%\n",
      "this is iteration : 4 and the image path is: Data\\test\\sushi\\911808.jpg\n",
      "ground Truth label is : sushi\n",
      "prediction label : sushi\n",
      "Confidence : 100.00%\n",
      "this is iteration : 5 and the image path is: Data\\test\\pizza\\380739.jpg\n",
      "ground Truth label is : pizza\n",
      "prediction label : pizza\n",
      "Confidence : 100.00%\n",
      "this is iteration : 6 and the image path is: Data\\test\\pizza\\3376617.jpg\n",
      "ground Truth label is : pizza\n",
      "prediction label : pizza\n",
      "Confidence : 100.00%\n",
      "this is iteration : 7 and the image path is: Data\\test\\pizza\\2549661.jpg\n",
      "ground Truth label is : pizza\n",
      "prediction label : pizza\n",
      "Confidence : 100.00%\n",
      "this is iteration : 8 and the image path is: Data\\test\\steak\\2117351.jpg\n",
      "ground Truth label is : steak\n",
      "prediction label : steak\n",
      "Confidence : 100.00%\n",
      "this is iteration : 9 and the image path is: Data\\test\\sushi\\593071.jpg\n",
      "ground Truth label is : sushi\n",
      "prediction label : sushi\n",
      "Confidence : 100.00%\n"
     ]
    }
   ],
   "source": [
    "for i, image_path in enumerate(random_images):\n",
    "    print(f\"this is iteration : {i} and the image path is: {str(image_path)}\")\n",
    "    prediction_label, prediction_probabilty = Predict_Custom_Images(model = pretrained_vit_model,\n",
    "                                         image_path = image_path,\n",
    "                                         device = device)"
   ]
  },
  {
   "cell_type": "code",
   "execution_count": 54,
   "metadata": {},
   "outputs": [
    {
     "name": "stdout",
     "output_type": "stream",
     "text": [
      "saving model to : models\\fine_tuning_Vit.pth \n"
     ]
    }
   ],
   "source": [
    "from pathlib import Path\n",
    "# creating the model directory \n",
    "\n",
    "Model_path = Path(\"models\")\n",
    "Model_path.mkdir(parents=True, exist_ok= True)\n",
    "# create model save path \n",
    "MODEL_NAME = \"fine_tuning_Vit.pth\"\n",
    "MODEL_SAVE_PATH = Model_path / MODEL_NAME\n",
    "# saving model \n",
    "print(f\"saving model to : {MODEL_SAVE_PATH} \")\n",
    "torch.save(pretrained_vit_model.state_dict(), MODEL_SAVE_PATH)"
   ]
  },
  {
   "cell_type": "code",
   "execution_count": null,
   "metadata": {},
   "outputs": [],
   "source": []
  }
 ],
 "metadata": {
  "kernelspec": {
   "display_name": "Python 3",
   "language": "python",
   "name": "python3"
  },
  "language_info": {
   "codemirror_mode": {
    "name": "ipython",
    "version": 3
   },
   "file_extension": ".py",
   "mimetype": "text/x-python",
   "name": "python",
   "nbconvert_exporter": "python",
   "pygments_lexer": "ipython3",
   "version": "3.11.6"
  }
 },
 "nbformat": 4,
 "nbformat_minor": 2
}
